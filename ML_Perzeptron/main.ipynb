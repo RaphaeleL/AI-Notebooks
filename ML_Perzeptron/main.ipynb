{
 "cells": [
  {
   "cell_type": "markdown",
   "metadata": {},
   "source": [
    "# Perzeptron"
   ]
  },
  {
   "cell_type": "code",
   "execution_count": 2,
   "metadata": {},
   "outputs": [],
   "source": [
    "import numpy as np\n",
    "import csv as csv\n",
    "import matplotlib.pyplot as plt\n",
    "import pandas as pd\n",
    "import itertools\n",
    "%matplotlib inline\n",
    "\n",
    "v1 = np.array([1, 2, 3])\n",
    "v2 = np.array([4, 5 ,6])\n",
    "skalar = v1.dot(v2)\n",
    "\n",
    "elementweise = v1 * v2"
   ]
  },
  {
   "cell_type": "code",
   "execution_count": 3,
   "metadata": {},
   "outputs": [],
   "source": [
    "class SimplePerceptron(object):\n",
    "    def __init__(self):\n",
    "        pass\n",
    "    \n",
    "    def heaviside(self, summe):\n",
    "        '''Implementierung der Heaviside-Funktion. Parameter ist die gewichtete Summe. Es wird die vorhergesagte Klassenbezeichnungen für den Eingangsvektor \n",
    " ermittelt.'''\n",
    "\n",
    "        if summe >= 0:\n",
    "            return 1\n",
    "        else: \n",
    "            return 0\n",
    "\n",
    "    def gewichtete_summe(self, x):\n",
    "        '''In dieser Methode wird die beschriebene gewichtete Summe berechnet.'''\n",
    "        return x.dot(self.w[1:]) + self.w[0]\n",
    "    \n",
    "    def perceptron_eval(self, X,y):\n",
    "        '''Berechnung gewichtete Summe, Anwendung der Heaviside-Funktion, Ermittlung des Fehlers, Ermittlung des Gesamtfehlers'''\n",
    "        self.w = np.array([-0.1,1,1]) \n",
    "        summe = self.gewichtete_summe(X)        \n",
    "\n",
    "        output = self.heaviside(summe)\n",
    "        return np.abs(output-y)"
   ]
  },
  {
   "cell_type": "markdown",
   "metadata": {},
   "source": [
    "### Algorithmus ausführuen und  Gesamtfehler anzeigen"
   ]
  },
  {
   "cell_type": "code",
   "execution_count": 10,
   "metadata": {},
   "outputs": [],
   "source": [
    "# 2 dimensionaler Input: x1, x2\n",
    "# 4 Inputvektoren\n",
    "X0 = np.array([0,0])\n",
    "X1 = np.array([0,1])\n",
    "X2 = np.array([1,0])\n",
    "X3 = np.array([1,1])\n",
    "\n",
    "# Die 4 gewünschten Ergebniswerte\n",
    "Y0 = 0\n",
    "Y1 = 1\n",
    "Y2 = 1 \n",
    "Y3 = 1\n",
    "\n",
    "s1 = SimplePerceptron()"
   ]
  },
  {
   "cell_type": "code",
   "execution_count": 9,
   "metadata": {},
   "outputs": [],
   "source": [
    "class Perceptron(object):\n",
    "    \n",
    "    def __init__(self, eta=None, epochs=None):\n",
    "        self.eta = eta\n",
    "        self.epochs = epochs\n",
    "        self.w = np.random.normal(loc=0.01, size=3)\n",
    "        self.w[0] = 1\n",
    "        self.errors = []\n",
    "\n",
    "    def gewichtete_summe(self, x):\n",
    "        '''In dieser Methode wird die beschriebene gewichtete Summe berechnet.'''\n",
    "        return x.dot(self.w[1:]) + self.w[0]\n",
    "        \n",
    "    def heaviside(self, summe):\n",
    "        '''Implementierung der Heaviside-Funktion. Parameter ist die gewichtete Summe. Es wird die vorhergesagte Klassenbezeichnungen für den Eingangsvektor \n",
    " ermittelt.'''\n",
    "        return 1 if summe >= 0 else 0\n",
    "    \n",
    "    def fit(self, X, y):\n",
    "        '''In dieser Methode wird das Training des neuronalen Netzes umgesetzt.'''\n",
    "        for e in range(self.epochs):\n",
    "            sum_error = 0\n",
    "            for i in range(len(X)):\n",
    "                summe = self.gewichtete_summe(X[i])\n",
    "\n",
    "                prediction = self.heaviside(summe)\n",
    "                error = y[i][0] - prediction\n",
    "                sum_error = sum_error + np.abs(error)\n",
    "                for j in range(len(self.w[1:])):\n",
    "                    self.w[j+1] = self.w[j+1] + self.eta * error * X[i][j]\n",
    "            print(sum_error)\n",
    "            self.errors.append(sum_error)\n",
    "        \n",
    "        return self.errors "
   ]
  },
  {
   "cell_type": "code",
   "execution_count": 7,
   "metadata": {},
   "outputs": [
    {
     "name": "stdout",
     "output_type": "stream",
     "text": [
      "50\n",
      "91\n",
      "85\n",
      "83\n",
      "82\n",
      "69\n",
      "43\n",
      "31\n",
      "24\n",
      "18\n"
     ]
    }
   ],
   "source": [
    "df = pd.read_csv(\"../Data/iris.data\", header=None, sep=\",\")\n",
    "df_shuffled = df.sample(frac=1) \n",
    "\n",
    "dffilter = df_shuffled[df_shuffled[4]!=\"Iris-virginica\"].copy()\n",
    "dffilter.loc[dffilter[4] == \"Iris-setosa\" , 4] =  0\n",
    "dffilter.loc[dffilter[4] == \"Iris-versicolor\" , 4] =  1\n",
    "\n",
    "myPerceptron = Perceptron(eta=0.001, epochs=10)\n",
    "    \n",
    "X = np.array(dffilter[[0,2]]) \n",
    "y = np.array(dffilter[[4]]) \n",
    "\n",
    "error = myPerceptron.fit(X,y)"
   ]
  },
  {
   "cell_type": "markdown",
   "metadata": {},
   "source": [
    "## Training und Visualisierung des Errors"
   ]
  },
  {
   "cell_type": "code",
   "execution_count": 8,
   "metadata": {},
   "outputs": [
    {
     "data": {
      "image/png": "[encoded data removed]",
      "text/plain": [
       "<Figure size 432x288 with 1 Axes>"
      ]
     },
     "metadata": {
      "needs_background": "light"
     },
     "output_type": "display_data"
    }
   ],
   "source": [
    "fig, ax = plt.subplots()\n",
    "ax.plot(range(len(error)), error)\n",
    "\n",
    "ax.set(xlabel='Epochen', ylabel='Anzahl Fehler')\n",
    "ax.grid()\n",
    "\n",
    "plt.show()"
   ]
  }
 ],
 "metadata": {
  "kernelspec": {
   "display_name": "Python 3 (ipykernel)",
   "language": "python",
   "name": "python3"
  },
  "language_info": {
   "codemirror_mode": {
    "name": "ipython",
    "version": 3
   },
   "file_extension": ".py",
   "mimetype": "text/x-python",
   "name": "python",
   "nbconvert_exporter": "python",
   "pygments_lexer": "ipython3",
   "version": "3.10.4"
  }
 },
 "nbformat": 4,
 "nbformat_minor": 2
}
