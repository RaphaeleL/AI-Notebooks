{
 "cells": [
  {
   "cell_type": "markdown",
   "metadata": {},
   "source": [
    "# Adaline"
   ]
  },
  {
   "cell_type": "markdown",
   "metadata": {},
   "source": [
    "# Adaptives Lineares Neuron (Adaline)"
   ]
  },
  {
   "cell_type": "code",
   "execution_count": 2,
   "metadata": {},
   "outputs": [],
   "source": [
    "import numpy as np\n",
    "import csv as csv\n",
    "import matplotlib.pyplot as plt\n",
    "import pandas as pd\n",
    "import itertools\n",
    "%matplotlib inline"
   ]
  },
  {
   "cell_type": "code",
   "execution_count": 3,
   "metadata": {},
   "outputs": [],
   "source": [
    "class Adaline(object):\n",
    "    \n",
    "    def __init__(self, eta=None, epochs=None):\n",
    "        self.eta = eta\n",
    "        self.epochs = epochs\n",
    "        self.w = np.random.normal(loc=0.01, size=3)\n",
    "        self.w[0] = 1\n",
    "        self.cost = []\n",
    "        \n",
    "    def gewichtete_summe(self, x):\n",
    "        '''In dieser Methode wird die beschriebene gewichtete Summe berechnet.'''\n",
    "        return x.dot(self.w)\n",
    "    \n",
    "    def activation(self, X):\n",
    "        '''Diese Funktion bewirkt im Code nichts, denn es handelt sich um eine Identitätsfunktion. Sie existiert zur Demonstration, wie Informationen durch ein einschichtiges Neuronales Netz fließen'''\n",
    "        return X\n",
    "        \n",
    "    def _add_bias(self, X):\n",
    "        bias = np.ones((X.shape[0], 1))\n",
    "        biased_X = np.hstack((bias, X))\n",
    "        return biased_X\n",
    "    \n",
    "    def fit(self, X, y):\n",
    "        '''Die Berechnung der Gewichtsaktualisierung erfolgt auf allen Trainingsobjekten'''\n",
    "        X = self._add_bias(X)\n",
    "        for e in range(self.epochs):\n",
    "            cost_epoch = 0\n",
    "            errors = []\n",
    "\n",
    "            for i in range(len(X)):\n",
    "                summe = self.gewichtete_summe(X[i])\n",
    "                activation_sum = self.activation(summe)\n",
    "                errors.append(activation_sum)\n",
    "\n",
    "            #Δ𝑤𝑗=𝜂⋅(𝑦−𝑛𝑒𝑡)⋅𝑥𝑗 \n",
    "            Y_minus_error = np.subtract(y, np.array(errors))\n",
    "            self.w = self.w + self.eta * X.T.dot(Y_minus_error)\n",
    "            cost_epoch= (np.array(Y_minus_error ) ** 2).sum() / 2.0\n",
    "            self.cost.append(cost_epoch)\n",
    "\n",
    "        return self.cost \n"
   ]
  },
  {
   "cell_type": "markdown",
   "metadata": {},
   "source": [
    "## Datensatz, Training und Visualisierung des Errors"
   ]
  },
  {
   "cell_type": "code",
   "execution_count": 5,
   "metadata": {},
   "outputs": [
    {
     "data": {
      "image/png": "[encoded data removed]",
      "text/plain": [
       "<Figure size 432x288 with 1 Axes>"
      ]
     },
     "metadata": {
      "needs_background": "light"
     },
     "output_type": "display_data"
    }
   ],
   "source": [
    "df = pd.read_csv(\"../Data/iris.data\", header=None, sep=\",\")\n",
    "df_shuffled = df.sample(frac=1) \n",
    "\n",
    "dffilter = df_shuffled[df_shuffled[4]!=\"Iris-virginica\"].copy()\n",
    "dffilter.loc[dffilter[4] == \"Iris-setosa\" , 4] =  0\n",
    "dffilter.loc[dffilter[4] == \"Iris-versicolor\" , 4] =  1\n",
    "\n",
    "myAdaline = Adaline(eta=0.0001, epochs=50)\n",
    "    \n",
    "X = np.array(dffilter[[0,2]])\n",
    "y = np.array(dffilter[4])\n",
    "\n",
    "error = myAdaline.fit(X,y)\n",
    "fig, ax = plt.subplots()\n",
    "ax.plot(range(len(error)), error)\n",
    "\n",
    "ax.set(xlabel='Epochen', ylabel='MeanSquareError')\n",
    "ax.grid()\n",
    "\n",
    "plt.show()"
   ]
  }
 ],
 "metadata": {
  "kernelspec": {
   "display_name": "Python 3 (ipykernel)",
   "language": "python",
   "name": "python3"
  },
  "language_info": {
   "codemirror_mode": {
    "name": "ipython",
    "version": 3
   },
   "file_extension": ".py",
   "mimetype": "text/x-python",
   "name": "python",
   "nbconvert_exporter": "python",
   "pygments_lexer": "ipython3",
   "version": "3.10.4"
  }
 },
 "nbformat": 4,
 "nbformat_minor": 2
}
