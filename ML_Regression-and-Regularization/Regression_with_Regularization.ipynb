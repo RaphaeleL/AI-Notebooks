{
 "cells": [
  {
   "cell_type": "markdown",
   "id": "686ba36b",
   "metadata": {
    "pycharm": {
     "name": "#%% md\n"
    }
   },
   "source": [
    "# Regression With Regularization"
   ]
  },
  {
   "cell_type": "markdown",
   "id": "18537774",
   "metadata": {
    "pycharm": {
     "name": "#%% md\n"
    }
   },
   "source": [
    "## 1. Pipeline"
   ]
  },
  {
   "cell_type": "code",
   "execution_count": 3,
   "id": "6ad8b62a",
   "metadata": {
    "pycharm": {
     "name": "#%%\n"
    }
   },
   "outputs": [],
   "source": [
    "import numpy as np\n",
    "import pandas as pd\n",
    "import matplotlib.pyplot as plt\n",
    "from IPython.display import display\n",
    "pd.options.display.max_columns = 50\n",
    "\n",
    "from sklearn.impute import SimpleImputer\n",
    "from sklearn.model_selection import train_test_split\n",
    "from sklearn.preprocessing import MinMaxScaler"
   ]
  },
  {
   "cell_type": "code",
   "execution_count": 4,
   "id": "1cb51196",
   "metadata": {
    "pycharm": {
     "name": "#%%\n"
    }
   },
   "outputs": [],
   "source": [
    "df = pd.read_csv(\"../Data/immo_data.csv\")\n",
    "desc = pd.read_csv(\"../Data/immo_data_column_description.csv\")\n",
    "\n",
    "df_reduced = df.drop([\"serviceCharge\", \"totalRent\", \"scoutId\", \"houseNumber\", \"geo_bln\", \"geo_krs\", \"geo_plz\", \"date\", \"telekomHybridUploadSpeed\"], axis=1, errors=\"ignore\")\n",
    "categorical_columns = df_reduced.select_dtypes(exclude=np.number).columns\n",
    "for c in categorical_columns:\n",
    "    if len(df_reduced[c].unique()) > 50:\n",
    "        df_reduced.drop(c, axis=1, inplace=True)\n",
    "\n",
    "interesting_columns = [\"yearConstructed\", \"noParkSpaces\", \"baseRent\", \"livingSpace\", \"noRooms\", \"numberOfFloors\", \"heatingCosts\", \"lastRefurbish\"]\n",
    "upper_limits = df[interesting_columns].quantile(0.995)\n",
    "lower_limits = df[interesting_columns].quantile(0.005)\n",
    "for col in interesting_columns:\n",
    "    df_reduced[col] = df[((df[col] < upper_limits[col]) & (df[col] > lower_limits[col])) | df[col].isna()][col]\n",
    "df_reduced = df_reduced[df_reduced[\"baseRent\"].isna() == False]\n",
    "\n",
    "red_num = df_reduced.select_dtypes(\"number\").columns\n",
    "red_qua = df_reduced.select_dtypes(\"object\").columns\n",
    "imp_mean = SimpleImputer(missing_values=np.nan, strategy= 'mean').fit(df_reduced[red_num])\n",
    "imp_most = SimpleImputer(missing_values=np.nan, strategy= 'most_frequent').fit(df_reduced[red_qua])\n",
    "df_reduced[red_num] = imp_mean.transform(df_reduced[red_num])\n",
    "df_reduced[red_qua] = imp_most.transform(df_reduced[red_qua])\n",
    "df_reduced = pd.concat([pd.get_dummies(df_reduced[red_qua]),df_reduced], axis=1)\n",
    "df_reduced = df_reduced.drop(red_qua, axis=1, errors=\"ignore\")\n",
    "\n",
    "X = df_reduced.drop(\"baseRent\", axis=1)\n",
    "X = X[df_reduced.regio1_Baden_Württemberg == 1]\n",
    "y = df_reduced[\"baseRent\"][df_reduced.regio1_Baden_Württemberg == 1]\n",
    "\n",
    "X_train, X_test, y_train, y_test = train_test_split(X, y, test_size=0.33, shuffle=True)\n",
    "feature_names = (names for names in X)\n",
    "\n",
    "scaler = MinMaxScaler()\n",
    "scaler.fit(X_train, y_train)\n",
    "X_train = pd.DataFrame(scaler.transform(X_train))\n",
    "X_test = pd.DataFrame(scaler.transform(X_test))"
   ]
  },
  {
   "cell_type": "markdown",
   "id": "a9b25c95",
   "metadata": {
    "pycharm": {
     "name": "#%% md\n"
    }
   },
   "source": [
    "## 2. Ridge Regression mit Kreuzvalidierung"
   ]
  },
  {
   "cell_type": "markdown",
   "id": "317f4400",
   "metadata": {
    "pycharm": {
     "name": "#%% md\n"
    }
   },
   "source": [
    "### 2.1 K-Fold Cross Validation"
   ]
  },
  {
   "cell_type": "code",
   "execution_count": 5,
   "id": "85894532",
   "metadata": {
    "pycharm": {
     "name": "#%%\n"
    }
   },
   "outputs": [
    {
     "name": "stdout",
     "output_type": "stream",
     "text": [
      "[0.8355096397120206, 0.8355096397125094, 0.8355096397173977, 0.8355096397662816, 0.8355096402551194, 0.8355096451433379, 0.8355096940097921, 0.8355101811025417, 0.8355148962019449, 0.835547655065587, 0.834960946946681]\n",
      "[0.006312856201045064, 0.006312856201336555, 0.006312856204251616, 0.0063128562334019145, 0.006312856524904879, 0.006312859439931194, 0.006312888589883459, 0.00631318005821466, 0.006316091591572124, 0.006344865406743081, 0.006591254961093174]\n"
     ]
    }
   ],
   "source": [
    "from sklearn.model_selection import KFold\n",
    "from sklearn import linear_model\n",
    "kf = KFold(n_splits=5, shuffle=True, random_state=42)\n",
    "model = linear_model.Ridge()\n",
    "mean_scores = []\n",
    "stddev_scores = []\n",
    "alphas = [0.000000001, 0.00000001, 0.0000001, 0.000001, 0.00001, 0.0001, 0.001, 0.01, 0.1, 1.0, 10.0]\n",
    "for alpha in alphas:\n",
    "    scores = []\n",
    "    for train_index, test_index in kf.split(X_train):\n",
    "\n",
    "        X_train_2, X_test_2 = X_train.iloc[train_index], X_train.iloc[test_index]\n",
    "        y_train_2, y_test_2 = y_train.iloc[train_index], y_train.iloc[test_index]\n",
    "\n",
    "        model.set_params(alpha=alpha)\n",
    "        model.fit(X_train_2, y_train_2)\n",
    "        scores.append(model.score(X_test_2, y_test_2))\n",
    "\n",
    "    mean_scores.append(np.mean(np.array(scores)))\n",
    "    stddev_scores.append(np.std(np.array(scores)))\n",
    "\n",
    "print(mean_scores)\n",
    "print(stddev_scores)"
   ]
  },
  {
   "cell_type": "markdown",
   "id": "be1fbbd0",
   "metadata": {
    "pycharm": {
     "name": "#%% md\n"
    }
   },
   "source": [
    "### 2.2 Training für bestes Alpha"
   ]
  },
  {
   "cell_type": "code",
   "execution_count": 6,
   "id": "22b1ef5a",
   "metadata": {
    "pycharm": {
     "name": "#%%\n"
    }
   },
   "outputs": [],
   "source": [
    "best_alpha_index = mean_scores.index(max(mean_scores))\n",
    "best_alpha = alphas[best_alpha_index]\n",
    "\n",
    "ridge = linear_model.Ridge(alpha=best_alpha)\n",
    "ridge.fit(X_train, y_train)\n",
    "\n",
    "y_test_pred = ridge.predict(X_test)"
   ]
  },
  {
   "cell_type": "markdown",
   "id": "601dfe7f",
   "metadata": {
    "pycharm": {
     "name": "#%% md\n"
    }
   },
   "source": [
    "### 2.3 Evaluation"
   ]
  },
  {
   "cell_type": "code",
   "execution_count": 7,
   "id": "9c9c2def",
   "metadata": {
    "pycharm": {
     "name": "#%%\n"
    }
   },
   "outputs": [
    {
     "name": "stdout",
     "output_type": "stream",
     "text": [
      "R² Testdaten: 0.8396719715056218\n",
      "Mean squared error Testdaten: 182.23734311132836\n",
      "Mean absolute error Testdaten: 11.59163865138574\n"
     ]
    }
   ],
   "source": [
    "from sklearn.metrics import mean_squared_error, mean_absolute_error, r2_score\n",
    "\n",
    "r2_test = r2_score(y_test, y_test_pred)\n",
    "mse_test = np.sqrt(mean_squared_error(y_test, y_test_pred))\n",
    "mae_test = np.sqrt(mean_absolute_error(y_test, y_test_pred))\n",
    "\n",
    "print(f\"R² Testdaten: {r2_test}\")\n",
    "print(f\"Mean squared error Testdaten: {mse_test}\")\n",
    "print(f\"Mean absolute error Testdaten: {mae_test}\")"
   ]
  },
  {
   "cell_type": "markdown",
   "id": "899cf983",
   "metadata": {
    "pycharm": {
     "name": "#%% md\n"
    }
   },
   "source": [
    "## 3. Lasso mit Kreuzvalidierung"
   ]
  },
  {
   "cell_type": "markdown",
   "id": "287223f9",
   "metadata": {
    "pycharm": {
     "name": "#%% md\n"
    }
   },
   "source": [
    "### 3.1 K-Fold Cross Validation"
   ]
  },
  {
   "cell_type": "markdown",
   "id": "f22a349b",
   "metadata": {
    "pycharm": {
     "name": "#%% md\n"
    }
   },
   "source": [
    "Untersuchung von Hyperparmeter alpha  für das Model Lasso (L1-Regularisierung)."
   ]
  },
  {
   "cell_type": "code",
   "execution_count": 8,
   "id": "edc42b71",
   "metadata": {
    "pycharm": {
     "name": "#%%\n"
    }
   },
   "outputs": [
    {
     "name": "stderr",
     "output_type": "stream",
     "text": [
      "/opt/homebrew/lib/python3.10/site-packages/sklearn/linear_model/_coordinate_descent.py:647: ConvergenceWarning: Objective did not converge. You might want to increase the number of iterations, check the scale of the features or consider increasing regularisation. Duality gap: 1.438e+08, tolerance: 1.794e+05\n",
      "  model = cd_fast.enet_coordinate_descent(\n",
      "/opt/homebrew/lib/python3.10/site-packages/sklearn/linear_model/_coordinate_descent.py:647: ConvergenceWarning: Objective did not converge. You might want to increase the number of iterations, check the scale of the features or consider increasing regularisation. Duality gap: 1.473e+08, tolerance: 1.814e+05\n",
      "  model = cd_fast.enet_coordinate_descent(\n",
      "/opt/homebrew/lib/python3.10/site-packages/sklearn/linear_model/_coordinate_descent.py:647: ConvergenceWarning: Objective did not converge. You might want to increase the number of iterations, check the scale of the features or consider increasing regularisation. Duality gap: 1.453e+08, tolerance: 1.797e+05\n",
      "  model = cd_fast.enet_coordinate_descent(\n",
      "/opt/homebrew/lib/python3.10/site-packages/sklearn/linear_model/_coordinate_descent.py:647: ConvergenceWarning: Objective did not converge. You might want to increase the number of iterations, check the scale of the features or consider increasing regularisation. Duality gap: 1.456e+08, tolerance: 1.790e+05\n",
      "  model = cd_fast.enet_coordinate_descent(\n",
      "/opt/homebrew/lib/python3.10/site-packages/sklearn/linear_model/_coordinate_descent.py:647: ConvergenceWarning: Objective did not converge. You might want to increase the number of iterations, check the scale of the features or consider increasing regularisation. Duality gap: 1.419e+08, tolerance: 1.794e+05\n",
      "  model = cd_fast.enet_coordinate_descent(\n",
      "/opt/homebrew/lib/python3.10/site-packages/sklearn/linear_model/_coordinate_descent.py:647: ConvergenceWarning: Objective did not converge. You might want to increase the number of iterations, check the scale of the features or consider increasing regularisation. Duality gap: 1.438e+08, tolerance: 1.794e+05\n",
      "  model = cd_fast.enet_coordinate_descent(\n",
      "/opt/homebrew/lib/python3.10/site-packages/sklearn/linear_model/_coordinate_descent.py:647: ConvergenceWarning: Objective did not converge. You might want to increase the number of iterations, check the scale of the features or consider increasing regularisation. Duality gap: 1.473e+08, tolerance: 1.814e+05\n",
      "  model = cd_fast.enet_coordinate_descent(\n",
      "/opt/homebrew/lib/python3.10/site-packages/sklearn/linear_model/_coordinate_descent.py:647: ConvergenceWarning: Objective did not converge. You might want to increase the number of iterations, check the scale of the features or consider increasing regularisation. Duality gap: 1.453e+08, tolerance: 1.797e+05\n",
      "  model = cd_fast.enet_coordinate_descent(\n",
      "/opt/homebrew/lib/python3.10/site-packages/sklearn/linear_model/_coordinate_descent.py:647: ConvergenceWarning: Objective did not converge. You might want to increase the number of iterations, check the scale of the features or consider increasing regularisation. Duality gap: 1.455e+08, tolerance: 1.790e+05\n",
      "  model = cd_fast.enet_coordinate_descent(\n",
      "/opt/homebrew/lib/python3.10/site-packages/sklearn/linear_model/_coordinate_descent.py:647: ConvergenceWarning: Objective did not converge. You might want to increase the number of iterations, check the scale of the features or consider increasing regularisation. Duality gap: 1.419e+08, tolerance: 1.794e+05\n",
      "  model = cd_fast.enet_coordinate_descent(\n",
      "/opt/homebrew/lib/python3.10/site-packages/sklearn/linear_model/_coordinate_descent.py:647: ConvergenceWarning: Objective did not converge. You might want to increase the number of iterations, check the scale of the features or consider increasing regularisation. Duality gap: 1.434e+08, tolerance: 1.794e+05\n",
      "  model = cd_fast.enet_coordinate_descent(\n",
      "/opt/homebrew/lib/python3.10/site-packages/sklearn/linear_model/_coordinate_descent.py:647: ConvergenceWarning: Objective did not converge. You might want to increase the number of iterations, check the scale of the features or consider increasing regularisation. Duality gap: 1.469e+08, tolerance: 1.814e+05\n",
      "  model = cd_fast.enet_coordinate_descent(\n",
      "/opt/homebrew/lib/python3.10/site-packages/sklearn/linear_model/_coordinate_descent.py:647: ConvergenceWarning: Objective did not converge. You might want to increase the number of iterations, check the scale of the features or consider increasing regularisation. Duality gap: 1.447e+08, tolerance: 1.797e+05\n",
      "  model = cd_fast.enet_coordinate_descent(\n",
      "/opt/homebrew/lib/python3.10/site-packages/sklearn/linear_model/_coordinate_descent.py:647: ConvergenceWarning: Objective did not converge. You might want to increase the number of iterations, check the scale of the features or consider increasing regularisation. Duality gap: 1.449e+08, tolerance: 1.790e+05\n",
      "  model = cd_fast.enet_coordinate_descent(\n",
      "/opt/homebrew/lib/python3.10/site-packages/sklearn/linear_model/_coordinate_descent.py:647: ConvergenceWarning: Objective did not converge. You might want to increase the number of iterations, check the scale of the features or consider increasing regularisation. Duality gap: 1.414e+08, tolerance: 1.794e+05\n",
      "  model = cd_fast.enet_coordinate_descent(\n",
      "/opt/homebrew/lib/python3.10/site-packages/sklearn/linear_model/_coordinate_descent.py:647: ConvergenceWarning: Objective did not converge. You might want to increase the number of iterations, check the scale of the features or consider increasing regularisation. Duality gap: 1.393e+08, tolerance: 1.794e+05\n",
      "  model = cd_fast.enet_coordinate_descent(\n",
      "/opt/homebrew/lib/python3.10/site-packages/sklearn/linear_model/_coordinate_descent.py:647: ConvergenceWarning: Objective did not converge. You might want to increase the number of iterations, check the scale of the features or consider increasing regularisation. Duality gap: 1.427e+08, tolerance: 1.814e+05\n",
      "  model = cd_fast.enet_coordinate_descent(\n",
      "/opt/homebrew/lib/python3.10/site-packages/sklearn/linear_model/_coordinate_descent.py:647: ConvergenceWarning: Objective did not converge. You might want to increase the number of iterations, check the scale of the features or consider increasing regularisation. Duality gap: 1.393e+08, tolerance: 1.797e+05\n",
      "  model = cd_fast.enet_coordinate_descent(\n",
      "/opt/homebrew/lib/python3.10/site-packages/sklearn/linear_model/_coordinate_descent.py:647: ConvergenceWarning: Objective did not converge. You might want to increase the number of iterations, check the scale of the features or consider increasing regularisation. Duality gap: 1.393e+08, tolerance: 1.790e+05\n",
      "  model = cd_fast.enet_coordinate_descent(\n",
      "/opt/homebrew/lib/python3.10/site-packages/sklearn/linear_model/_coordinate_descent.py:647: ConvergenceWarning: Objective did not converge. You might want to increase the number of iterations, check the scale of the features or consider increasing regularisation. Duality gap: 1.371e+08, tolerance: 1.794e+05\n",
      "  model = cd_fast.enet_coordinate_descent(\n",
      "/opt/homebrew/lib/python3.10/site-packages/sklearn/linear_model/_coordinate_descent.py:647: ConvergenceWarning: Objective did not converge. You might want to increase the number of iterations, check the scale of the features or consider increasing regularisation. Duality gap: 1.064e+08, tolerance: 1.794e+05\n",
      "  model = cd_fast.enet_coordinate_descent(\n",
      "/opt/homebrew/lib/python3.10/site-packages/sklearn/linear_model/_coordinate_descent.py:647: ConvergenceWarning: Objective did not converge. You might want to increase the number of iterations, check the scale of the features or consider increasing regularisation. Duality gap: 1.094e+08, tolerance: 1.814e+05\n",
      "  model = cd_fast.enet_coordinate_descent(\n",
      "/opt/homebrew/lib/python3.10/site-packages/sklearn/linear_model/_coordinate_descent.py:647: ConvergenceWarning: Objective did not converge. You might want to increase the number of iterations, check the scale of the features or consider increasing regularisation. Duality gap: 9.849e+07, tolerance: 1.797e+05\n",
      "  model = cd_fast.enet_coordinate_descent(\n",
      "/opt/homebrew/lib/python3.10/site-packages/sklearn/linear_model/_coordinate_descent.py:647: ConvergenceWarning: Objective did not converge. You might want to increase the number of iterations, check the scale of the features or consider increasing regularisation. Duality gap: 9.705e+07, tolerance: 1.790e+05\n",
      "  model = cd_fast.enet_coordinate_descent(\n"
     ]
    },
    {
     "name": "stderr",
     "output_type": "stream",
     "text": [
      "/opt/homebrew/lib/python3.10/site-packages/sklearn/linear_model/_coordinate_descent.py:647: ConvergenceWarning: Objective did not converge. You might want to increase the number of iterations, check the scale of the features or consider increasing regularisation. Duality gap: 1.030e+08, tolerance: 1.794e+05\n",
      "  model = cd_fast.enet_coordinate_descent(\n",
      "/opt/homebrew/lib/python3.10/site-packages/sklearn/linear_model/_coordinate_descent.py:647: ConvergenceWarning: Objective did not converge. You might want to increase the number of iterations, check the scale of the features or consider increasing regularisation. Duality gap: 2.680e+07, tolerance: 1.794e+05\n",
      "  model = cd_fast.enet_coordinate_descent(\n",
      "/opt/homebrew/lib/python3.10/site-packages/sklearn/linear_model/_coordinate_descent.py:647: ConvergenceWarning: Objective did not converge. You might want to increase the number of iterations, check the scale of the features or consider increasing regularisation. Duality gap: 3.324e+07, tolerance: 1.814e+05\n",
      "  model = cd_fast.enet_coordinate_descent(\n",
      "/opt/homebrew/lib/python3.10/site-packages/sklearn/linear_model/_coordinate_descent.py:647: ConvergenceWarning: Objective did not converge. You might want to increase the number of iterations, check the scale of the features or consider increasing regularisation. Duality gap: 4.462e+07, tolerance: 1.797e+05\n",
      "  model = cd_fast.enet_coordinate_descent(\n",
      "/opt/homebrew/lib/python3.10/site-packages/sklearn/linear_model/_coordinate_descent.py:647: ConvergenceWarning: Objective did not converge. You might want to increase the number of iterations, check the scale of the features or consider increasing regularisation. Duality gap: 3.327e+07, tolerance: 1.790e+05\n",
      "  model = cd_fast.enet_coordinate_descent(\n",
      "/opt/homebrew/lib/python3.10/site-packages/sklearn/linear_model/_coordinate_descent.py:647: ConvergenceWarning: Objective did not converge. You might want to increase the number of iterations, check the scale of the features or consider increasing regularisation. Duality gap: 3.227e+07, tolerance: 1.794e+05\n",
      "  model = cd_fast.enet_coordinate_descent(\n",
      "/opt/homebrew/lib/python3.10/site-packages/sklearn/linear_model/_coordinate_descent.py:647: ConvergenceWarning: Objective did not converge. You might want to increase the number of iterations, check the scale of the features or consider increasing regularisation. Duality gap: 3.276e+07, tolerance: 1.794e+05\n",
      "  model = cd_fast.enet_coordinate_descent(\n",
      "/opt/homebrew/lib/python3.10/site-packages/sklearn/linear_model/_coordinate_descent.py:647: ConvergenceWarning: Objective did not converge. You might want to increase the number of iterations, check the scale of the features or consider increasing regularisation. Duality gap: 3.288e+07, tolerance: 1.814e+05\n",
      "  model = cd_fast.enet_coordinate_descent(\n",
      "/opt/homebrew/lib/python3.10/site-packages/sklearn/linear_model/_coordinate_descent.py:647: ConvergenceWarning: Objective did not converge. You might want to increase the number of iterations, check the scale of the features or consider increasing regularisation. Duality gap: 4.441e+07, tolerance: 1.797e+05\n",
      "  model = cd_fast.enet_coordinate_descent(\n",
      "/opt/homebrew/lib/python3.10/site-packages/sklearn/linear_model/_coordinate_descent.py:647: ConvergenceWarning: Objective did not converge. You might want to increase the number of iterations, check the scale of the features or consider increasing regularisation. Duality gap: 3.282e+07, tolerance: 1.790e+05\n",
      "  model = cd_fast.enet_coordinate_descent(\n",
      "/opt/homebrew/lib/python3.10/site-packages/sklearn/linear_model/_coordinate_descent.py:647: ConvergenceWarning: Objective did not converge. You might want to increase the number of iterations, check the scale of the features or consider increasing regularisation. Duality gap: 3.202e+07, tolerance: 1.794e+05\n",
      "  model = cd_fast.enet_coordinate_descent(\n",
      "/opt/homebrew/lib/python3.10/site-packages/sklearn/linear_model/_coordinate_descent.py:647: ConvergenceWarning: Objective did not converge. You might want to increase the number of iterations, check the scale of the features or consider increasing regularisation. Duality gap: 3.265e+07, tolerance: 1.794e+05\n",
      "  model = cd_fast.enet_coordinate_descent(\n",
      "/opt/homebrew/lib/python3.10/site-packages/sklearn/linear_model/_coordinate_descent.py:647: ConvergenceWarning: Objective did not converge. You might want to increase the number of iterations, check the scale of the features or consider increasing regularisation. Duality gap: 3.300e+07, tolerance: 1.814e+05\n",
      "  model = cd_fast.enet_coordinate_descent(\n",
      "/opt/homebrew/lib/python3.10/site-packages/sklearn/linear_model/_coordinate_descent.py:647: ConvergenceWarning: Objective did not converge. You might want to increase the number of iterations, check the scale of the features or consider increasing regularisation. Duality gap: 2.727e+07, tolerance: 1.797e+05\n",
      "  model = cd_fast.enet_coordinate_descent(\n",
      "/opt/homebrew/lib/python3.10/site-packages/sklearn/linear_model/_coordinate_descent.py:647: ConvergenceWarning: Objective did not converge. You might want to increase the number of iterations, check the scale of the features or consider increasing regularisation. Duality gap: 7.898e+06, tolerance: 1.790e+05\n",
      "  model = cd_fast.enet_coordinate_descent(\n",
      "/opt/homebrew/lib/python3.10/site-packages/sklearn/linear_model/_coordinate_descent.py:647: ConvergenceWarning: Objective did not converge. You might want to increase the number of iterations, check the scale of the features or consider increasing regularisation. Duality gap: 3.219e+07, tolerance: 1.794e+05\n",
      "  model = cd_fast.enet_coordinate_descent(\n"
     ]
    },
    {
     "name": "stdout",
     "output_type": "stream",
     "text": [
      "[0.8355096369502739, 0.8355096369897842, 0.8355096373848869, 0.8355096413359275, 0.8355096806328366, 0.835510073370546, 0.8355139324074644, 0.8355491126717425, 0.8356932943576721, 0.8321944413298462, 0.8062370576022871]\n",
      "[0.006312906965348381, 0.006312906958767069, 0.0063129068929535445, 0.006312906234743103, 0.0063129000169776985, 0.006312837707676724, 0.006312359306065945, 0.006306883741280788, 0.00628153395470915, 0.006907229899403617, 0.009182396139608208]\n"
     ]
    }
   ],
   "source": [
    "from sklearn.linear_model import Lasso\n",
    "\n",
    "lasso = Lasso(max_iter=100)\n",
    "mean_scores = []\n",
    "stddev_scores = []\n",
    "alphas = [0.000000001, 0.00000001, 0.0000001, 0.000001, 0.00001, 0.0001, 0.001, 0.01, 0.1, 1.0, 10.0]\n",
    "for alpha in alphas:\n",
    "    scores = []\n",
    "    for train_index, test_index in kf.split(X_train):\n",
    "\n",
    "        X_train_2, X_test_2 = X_train.iloc[train_index], X_train.iloc[test_index]\n",
    "        y_train_2, y_test_2 = y_train.iloc[train_index], y_train.iloc[test_index]\n",
    "\n",
    "        lasso.set_params(alpha=alpha)\n",
    "        lasso.fit(X_train_2, y_train_2)\n",
    "        scores.append(lasso.score(X_test_2, y_test_2))\n",
    "\n",
    "    # Speichern von Mittelwert und Standardabweichung über die 5 Läufe für jedes alpha\n",
    "    mean_scores.append(np.mean(np.array(scores)))\n",
    "    stddev_scores.append(np.std(np.array(scores)))\n",
    "\n",
    "print(mean_scores)\n",
    "print(stddev_scores)"
   ]
  },
  {
   "cell_type": "markdown",
   "id": "39d800ad",
   "metadata": {
    "pycharm": {
     "name": "#%% md\n"
    }
   },
   "source": [
    "### 3.2 Training für bestes Alpha"
   ]
  },
  {
   "cell_type": "code",
   "execution_count": 9,
   "id": "6b5b4c5e",
   "metadata": {
    "pycharm": {
     "name": "#%%\n"
    }
   },
   "outputs": [
    {
     "data": {
      "text/plain": [
       "Lasso(alpha=0.1, max_iter=100)"
      ]
     },
     "execution_count": 9,
     "metadata": {},
     "output_type": "execute_result"
    }
   ],
   "source": [
    "best_alpha_index = mean_scores.index(max(mean_scores))\n",
    "best_alpha = alphas[best_alpha_index]\n",
    "\n",
    "lasso = linear_model.Lasso(max_iter=100)\n",
    "lasso.alpha = best_alpha\n",
    "lasso.fit(X_train, y_train)"
   ]
  },
  {
   "cell_type": "markdown",
   "id": "3628c2e4",
   "metadata": {
    "pycharm": {
     "name": "#%% md\n"
    }
   },
   "source": [
    "### 3.3 Evaluation"
   ]
  },
  {
   "cell_type": "code",
   "execution_count": 10,
   "id": "de93237a",
   "metadata": {
    "pycharm": {
     "name": "#%%\n"
    }
   },
   "outputs": [
    {
     "name": "stdout",
     "output_type": "stream",
     "text": [
      "R² Testdaten: 0.839824011623335\n",
      "Mean squared error Testdaten: 182.1509141841807\n",
      "Mean absolute error Testdaten: 11.595821722114323\n"
     ]
    }
   ],
   "source": [
    "y_test_pred = lasso.predict(X_test)\n",
    "\n",
    "from sklearn.metrics import mean_squared_error, mean_absolute_error, r2_score\n",
    "\n",
    "r2_test = r2_score(y_test, y_test_pred)\n",
    "mse_test = np.sqrt(mean_squared_error(y_test, y_test_pred))\n",
    "mae_test = np.sqrt(mean_absolute_error(y_test, y_test_pred))\n",
    "\n",
    "print(f\"R² Testdaten: {r2_test}\")\n",
    "print(f\"Mean squared error Testdaten: {mse_test}\")\n",
    "print(f\"Mean absolute error Testdaten: {mae_test}\")"
   ]
  }
 ],
 "metadata": {
  "kernelspec": {
   "display_name": "Python 3 (ipykernel)",
   "language": "python",
   "name": "python3"
  },
  "language_info": {
   "codemirror_mode": {
    "name": "ipython",
    "version": 3
   },
   "file_extension": ".py",
   "mimetype": "text/x-python",
   "name": "python",
   "nbconvert_exporter": "python",
   "pygments_lexer": "ipython3",
   "version": "3.10.4"
  }
 },
 "nbformat": 4,
 "nbformat_minor": 5
}
